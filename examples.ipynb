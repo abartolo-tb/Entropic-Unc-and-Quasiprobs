{
 "cells": [
  {
   "cell_type": "markdown",
   "metadata": {},
   "source": [
    "# Imports"
   ]
  },
  {
   "cell_type": "code",
   "execution_count": null,
   "metadata": {},
   "outputs": [],
   "source": [
    "import numpy as np\n",
    "import numpy.linalg as linalg\n",
    "from time import time\n",
    "from simulationTools import *"
   ]
  },
  {
   "cell_type": "markdown",
   "metadata": {},
   "source": [
    "# Generic Example"
   ]
  },
  {
   "cell_type": "markdown",
   "metadata": {},
   "source": [
    "### Tweakable Parameters"
   ]
  },
  {
   "cell_type": "code",
   "execution_count": null,
   "metadata": {},
   "outputs": [],
   "source": [
    "# Number of cores for computing\n",
    "nCores = 2\n",
    "\n",
    "# Number of spins in chain\n",
    "n = 8\n",
    "\n",
    "# Define Hamiltonian args=(nSpins,h,g,J)\n",
    "H = transverse_field_ising_hamiltonian(n, .5, 1.05, 1)\n",
    "# Power Law Ising Hamiltonian args=(nSpins,h,g,J,lmax,zeta)\n",
    "#hz = [.375, -.375, .375, -.375, .375, -.375, .375, -.375]\n",
    "#H = power_law_ising_hamiltonian(n, hz, 1.05, 1, 5, 6)\n",
    "\n",
    "# Define initial density matrix.\n",
    "# For zero temperature use beta=np.inf. For infinite temperature, use beta=0.\n",
    "beta = 1\n",
    "Lambda, Q = linalg.eigh(H.todense())\n",
    "rho = thermal_density_matrix(Lambda, Q, beta)\n",
    "\n",
    "# Define weak measurement projection operators\n",
    "# args = (nSpins, nMeas, sign, axis)\n",
    "# nSpins - length of spin chain (set at top)\n",
    "# nMeas - site to measure at (labelled 0,1,..,n-1) (usually use 0)\n",
    "# sign - +1 for project onto aligned spins, -1 for anti-aligned\n",
    "# axis - spherical polar coordinates for measurement axis [theta, phi]\n",
    "vAxis = [0,0]\n",
    "V1 = construct_local_projector(n, 0, 0, vAxis)\n",
    "V2 = construct_local_projector(n, 0, 1, vAxis)\n",
    "\n",
    "# Define strong measurement projection operators\n",
    "# Same syntax as weak measurement operators.\n",
    "# Usually choose to measure at the last spin site (n-1)\n",
    "# Need to be complete, so should have same parameters but\n",
    "# opposite signs\n",
    "wAxis = [np.pi/2,0]\n",
    "W1 = construct_local_projector(n, n-1, 0, wAxis)\n",
    "W2 = construct_local_projector(n, n-1, 1, wAxis)\n",
    "Wlist = [W1, W2]\n",
    "\n",
    "# Couplings that appear in weak measurement Kraus operators\n",
    "# args=(x0, Delta, gtilde, xValues, hbar)\n",
    "# p0 - central value of momentum wavepacket for readout particle\n",
    "# Delta - uncertainty in momentum wavepacket\n",
    "# gtilde - weak coupling between system and detector\n",
    "# xValues - possible readout positions of particle\n",
    "# WARNINGS: 1) The list of xValues cannot be too large. The maximization\n",
    "#              step requires holding the square of the number of entries \n",
    "#              in memory. More than a few thousand entries is likely to \n",
    "#              crash your laptop.\n",
    "#           2) Small values of Delta (<.1) create significant spread in\n",
    "#              position space. Check that the bulk of the probability is\n",
    "#              in your list of xValues using the plots below.\n",
    "xValues = np.arange(-30,30,.1)\n",
    "pg1 = weak_measurement_couplings(10, .1, .02, xValues)\n",
    "pg2 = weak_measurement_couplings(10, .1, .02, xValues)\n",
    "\n",
    "# Time values to plot inequality at\n",
    "tList = np.linspace(0,10,40)\n",
    "\n",
    "# Smoothing parameter for smoothed inequality\n",
    "eps = .01"
   ]
  },
  {
   "cell_type": "markdown",
   "metadata": {},
   "source": [
    "### Visualize Weak Measurement Couplings"
   ]
  },
  {
   "cell_type": "code",
   "execution_count": null,
   "metadata": {},
   "outputs": [],
   "source": [
    "visualize_weak_couplings(pg1, xValues)"
   ]
  },
  {
   "cell_type": "markdown",
   "metadata": {},
   "source": [
    "### Run Simulation"
   ]
  },
  {
   "cell_type": "code",
   "execution_count": null,
   "metadata": {},
   "outputs": [],
   "source": [
    "t1 = time()\n",
    "\n",
    "LHSneu, LHSmm, LHSneuTerms, LHSmmTerms, rhoF, rhoR, f, fOrd, fTerm, qProbs = simulation(V1, V2, pg1, pg2, Wlist, H, rho, tList, nWorks=nCores)\n",
    "\n",
    "t2 = time()\n",
    "print(\"Runtime = \" + repr(t2-t1) + \" seconds\")"
   ]
  },
  {
   "cell_type": "markdown",
   "metadata": {},
   "source": [
    "### Visualize Inequality"
   ]
  },
  {
   "cell_type": "code",
   "execution_count": null,
   "metadata": {
    "scrolled": true
   },
   "outputs": [],
   "source": [
    "visualize_inequality(tList, LHSneu, LHSmm, f, fOrd, fTerm, qProbs)"
   ]
  },
  {
   "cell_type": "markdown",
   "metadata": {},
   "source": [
    "### Visualize Smoothed Inequality"
   ]
  },
  {
   "cell_type": "code",
   "execution_count": null,
   "metadata": {},
   "outputs": [],
   "source": [
    "Hmin, Hmax, Hmineps, Hmaxeps = visualize_smoothed_inequality(tList, rhoF, rhoR, f, eps)"
   ]
  },
  {
   "cell_type": "markdown",
   "metadata": {},
   "source": [
    "### Visualize Density Matrices of Detector"
   ]
  },
  {
   "cell_type": "code",
   "execution_count": null,
   "metadata": {},
   "outputs": [],
   "source": [
    "visualize_detector_state(xValues, rhoF, 'Forward Detector')\n",
    "visualize_detector_state(xValues, rhoR, 'Reverse Detector')"
   ]
  },
  {
   "cell_type": "markdown",
   "metadata": {},
   "source": [
    "### Visualize All Quasiprobabilities"
   ]
  },
  {
   "cell_type": "code",
   "execution_count": null,
   "metadata": {},
   "outputs": [],
   "source": [
    "tA1213, tA2223, tA1223 = create_all_quasiprobs(V1, V2, pg1, pg2, Wlist, H, tList, hbar=1)\n",
    "visualize_all_quasiprobs(tList, tA1213, tA2223, tA1223)"
   ]
  },
  {
   "cell_type": "markdown",
   "metadata": {},
   "source": [
    "# Examples"
   ]
  },
  {
   "cell_type": "markdown",
   "metadata": {},
   "source": [
    "## 0) Integrable Longitudinal Ising, Coarse Grained, Weak Coupling"
   ]
  },
  {
   "cell_type": "code",
   "execution_count": null,
   "metadata": {
    "scrolled": true
   },
   "outputs": [],
   "source": [
    "t1 = time() # Expected run-time: 2 minutes\n",
    "\n",
    "nCores = 2\n",
    "n = 8\n",
    "H = transverse_field_ising_hamiltonian(n, 0, 1.05, 1)\n",
    "beta = 1\n",
    "Lambda, Q = linalg.eigh(H.todense())\n",
    "rho = thermal_density_matrix(Lambda, Q, beta)\n",
    "vAxis = [0,0]\n",
    "V1 = construct_local_projector(n, 0, 0, vAxis)\n",
    "V2 = construct_local_projector(n, 0, 1, vAxis)\n",
    "xValues = np.arange(-30,30,.1)\n",
    "pg1 = weak_measurement_couplings(10, .1, .02, xValues)\n",
    "pg2 = weak_measurement_couplings(10, .1, .02, xValues)\n",
    "wAxis = [0,0]\n",
    "W1 = construct_local_projector(n, n-1, 0, wAxis)\n",
    "W2 = construct_local_projector(n, n-1, 1, wAxis)\n",
    "Wlist = [W1, W2]\n",
    "tList = np.linspace(0,20,101)\n",
    "eps=.01\n",
    "\n",
    "visualize_weak_couplings(pg1, xValues)\n",
    "\n",
    "LHSneu, LHSmm, LHSneuTerms, LHSmmTerms, rhoF, rhoR, f, fOrd, fTerm, qProbs = simulation(V1, V2, pg1, pg2, Wlist, H, rho, tList, nWorks=nCores)\n",
    "\n",
    "visualize_inequality(tList, LHSneu, LHSmm, f, fOrd, fTerm, qProbs)\n",
    "\n",
    "visualize_smoothed_inequality(tList, rhoF, rhoR, f, eps)\n",
    "\n",
    "visualize_detector_state(xValues, rhoF, 'Forward Detector')\n",
    "visualize_detector_state(xValues, rhoR, 'Reverse Detector')\n",
    "\n",
    "tA1213, tA2223, tA1223 = create_all_quasiprobs(V1, V2, pg1, pg2, Wlist, H, tList, hbar=1)\n",
    "visualize_all_quasiprobs(tList, tA1213, tA2223, tA1223)\n",
    "\n",
    "t2 = time()\n",
    "print(\"Runtime = \" + repr(t2-t1) + \" seconds\")"
   ]
  },
  {
   "cell_type": "markdown",
   "metadata": {},
   "source": [
    "## 1) Longitudinal Ising, Coarse Grained, Weak Coupling"
   ]
  },
  {
   "cell_type": "code",
   "execution_count": null,
   "metadata": {
    "scrolled": true
   },
   "outputs": [],
   "source": [
    "t1 = time() # Expected run-time: 2 minutes\n",
    "\n",
    "nCores = 2\n",
    "n = 8\n",
    "H = transverse_field_ising_hamiltonian(n, .5, 1.05, 1)\n",
    "beta = 1\n",
    "Lambda, Q = linalg.eigh(H.todense())\n",
    "rho = thermal_density_matrix(Lambda, Q, beta)\n",
    "vAxis = [0,0]\n",
    "V1 = construct_local_projector(n, 0, 0, vAxis)\n",
    "V2 = construct_local_projector(n, 0, 1, vAxis)\n",
    "xValues = np.arange(-30,30,.1)\n",
    "pg1 = weak_measurement_couplings(10, .1, .02, xValues)\n",
    "pg2 = weak_measurement_couplings(10, .1, .02, xValues)\n",
    "wAxis = [0,0]\n",
    "W1 = construct_local_projector(n, n-1, 0, wAxis)\n",
    "W2 = construct_local_projector(n, n-1, 1, wAxis)\n",
    "Wlist = [W1, W2]\n",
    "tList = np.linspace(0,10,101)\n",
    "eps=.01\n",
    "\n",
    "visualize_weak_couplings(pg1, xValues)\n",
    "\n",
    "LHSneu, LHSmm, LHSneuTerms, LHSmmTerms, rhoF, rhoR, f, fOrd, fTerm, qProbs = simulation(V1, V2, pg1, pg2, Wlist, H, rho, tList, nWorks=nCores)\n",
    "\n",
    "visualize_inequality(tList, LHSneu, LHSmm, f, fOrd, fTerm, qProbs)\n",
    "\n",
    "visualize_smoothed_inequality(tList, rhoF, rhoR, f, eps)\n",
    "\n",
    "visualize_detector_state(xValues, rhoF, 'Forward Detector')\n",
    "visualize_detector_state(xValues, rhoR, 'Reverse Detector')\n",
    "\n",
    "tA1213, tA2223, tA1223 = create_all_quasiprobs(V1, V2, pg1, pg2, Wlist, H, tList, hbar=1)\n",
    "visualize_all_quasiprobs(tList, tA1213, tA2223, tA1223)\n",
    "\n",
    "t2 = time()\n",
    "print(\"Runtime = \" + repr(t2-t1) + \" seconds\")"
   ]
  },
  {
   "cell_type": "markdown",
   "metadata": {},
   "source": [
    "## 2) Longitudinal Ising, Coarse Grained, Strong Coupling"
   ]
  },
  {
   "cell_type": "code",
   "execution_count": null,
   "metadata": {
    "scrolled": true
   },
   "outputs": [],
   "source": [
    "t1 = time() # Expected run-time: 3 minutes\n",
    "\n",
    "nCores = 2\n",
    "n = 8\n",
    "H = transverse_field_ising_hamiltonian(n, .5, 1.05, 1)\n",
    "beta = 1\n",
    "Lambda, Q = linalg.eigh(H.todense())\n",
    "rho = thermal_density_matrix(Lambda, Q, beta)\n",
    "vAxis = [0,0]\n",
    "V1 = construct_local_projector(n, 0, 0, vAxis)\n",
    "V2 = construct_local_projector(n, 0, 0, vAxis)\n",
    "xValues = np.arange(-30,30,.1)\n",
    "pg1 = weak_measurement_couplings(10, .1, .16, xValues)\n",
    "pg2 = weak_measurement_couplings(10, .1, .16, xValues)\n",
    "wAxis = [0,0]\n",
    "W1 = construct_local_projector(n, n-1, 0, wAxis)\n",
    "W2 = construct_local_projector(n, n-1, 1, wAxis)\n",
    "Wlist = [W1, W2]\n",
    "tList = np.linspace(0,10,101)\n",
    "eps=.01\n",
    "\n",
    "visualize_weak_couplings(pg1, xValues)\n",
    "\n",
    "LHSneu, LHSmm, LHSneuTerms, LHSmmTerms, rhoF, rhoR, f, aOrd, aTerm, qProbs = simulation_strong(V1, V2, pg1, pg2, Wlist, H, rho, tList, nWorks=nCores)\n",
    "\n",
    "visualize_inequality_strong(tList, LHSneu, LHSmm, f, aOrd, aTerm, qProbs)\n",
    "\n",
    "visualize_smoothed_inequality(tList, rhoF, rhoR, f, eps)\n",
    "\n",
    "visualize_detector_state(xValues, rhoF, 'Forward Detector')\n",
    "visualize_detector_state(xValues, rhoR, 'Reverse Detector')\n",
    "\n",
    "t2 = time()\n",
    "print(\"Runtime = \" + repr(t2-t1) + \" seconds\")"
   ]
  },
  {
   "cell_type": "markdown",
   "metadata": {},
   "source": [
    "## 3) Longitudinal Ising, Partially Fine Grained, Weak Coupling"
   ]
  },
  {
   "cell_type": "code",
   "execution_count": null,
   "metadata": {
    "scrolled": true
   },
   "outputs": [],
   "source": [
    "t1 = time() # Expected run-time: 20 minutes\n",
    "\n",
    "nCores = 2\n",
    "n = 8\n",
    "H = transverse_field_ising_hamiltonian(n, .5, 1.05, 1)\n",
    "beta = 1\n",
    "Lambda, Q = linalg.eigh(H.todense())\n",
    "rho = thermal_density_matrix(Lambda, Q, beta)\n",
    "vAxis = [0,0]\n",
    "V1 = construct_local_projector(n, 0, 0, vAxis)\n",
    "V2 = construct_local_projector(n, 0, 1, vAxis)\n",
    "xValues = np.arange(-30,30,.1)\n",
    "pg1 = weak_measurement_couplings(10, .1, .02, xValues)\n",
    "pg2 = weak_measurement_couplings(10, .1, .02, xValues)\n",
    "wAxisList = [None, None, None, None, [0,0], [0,0], [0,0], [0,0]]\n",
    "Wlist = construct_complete_projector_list(n, wAxisList)\n",
    "tList = np.linspace(0,10,101)\n",
    "eps = .01\n",
    "\n",
    "visualize_weak_couplings(pg1, xValues)\n",
    "\n",
    "LHSneu, LHSmm, LHSneuTerms, LHSmmTerms, rhoF, rhoR, f, fOrd, fTerm, qProbs = simulation(V1, V2, pg1, pg2, Wlist, H, rho, tList, nWorks=nCores)\n",
    "\n",
    "visualize_inequality(tList, LHSneu, LHSmm, f, fOrd, fTerm, qProbs)\n",
    "\n",
    "visualize_smoothed_inequality(tList, rhoF, rhoR, f, eps)\n",
    "\n",
    "visualize_detector_state(xValues, rhoF, 'Forward Detector')\n",
    "visualize_detector_state(xValues, rhoR, 'Reverse Detector')\n",
    "\n",
    "tA1213, tA2223, tA1223 = create_all_quasiprobs(V1, V2, pg1, pg2, Wlist, H, tList, hbar=1)\n",
    "visualize_all_quasiprobs(tList, tA1213, tA2223, tA1223)\n",
    "\n",
    "t2 = time()\n",
    "print(\"Runtime = \" + repr(t2-t1) + \" seconds\")"
   ]
  },
  {
   "cell_type": "markdown",
   "metadata": {},
   "source": [
    "## 4) Longitudinal Ising, Fine Grained, Weak Coupling"
   ]
  },
  {
   "cell_type": "code",
   "execution_count": null,
   "metadata": {
    "scrolled": true
   },
   "outputs": [],
   "source": [
    "t1 = time() # Expected run-time: 3 hours\n",
    "\n",
    "nCores = 2\n",
    "n = 8\n",
    "H = transverse_field_ising_hamiltonian(n, .5, 1.05, 1)\n",
    "beta = 1\n",
    "Lambda, Q = linalg.eigh(H.todense())\n",
    "rho = thermal_density_matrix(Lambda, Q, beta)\n",
    "vAxis = [0,0]\n",
    "V1 = construct_local_projector(n, 0, 0, vAxis)\n",
    "V2 = construct_local_projector(n, 0, 1, vAxis)\n",
    "xValues = np.arange(-30,30,.1)\n",
    "pg1 = weak_measurement_couplings(10, .1, .02, xValues)\n",
    "pg2 = weak_measurement_couplings(10, .1, .02, xValues)\n",
    "wAxisList = [[0,0], ]*n\n",
    "Wlist = construct_complete_projector_list(n, wAxisList)\n",
    "tList = np.linspace(0,10,101)\n",
    "eps = .01\n",
    "\n",
    "visualize_weak_couplings(pg1, xValues)\n",
    "\n",
    "LHSneu, LHSmm, LHSneuTerms, LHSmmTerms, rhoF, rhoR, f, fOrd, fTerm, qProbs = simulation(V1, V2, pg1, pg2, Wlist, H, rho, tList, nWorks=nCores)\n",
    "\n",
    "visualize_inequality(tList, LHSneu, LHSmm, f, fOrd, fTerm, qProbs)\n",
    "\n",
    "visualize_smoothed_inequality(tList, rhoF, rhoR, f, eps)\n",
    "\n",
    "tA1213, tA2223, tA1223 = create_all_quasiprobs(V1, V2, pg1, pg2, Wlist, H, tList, hbar=1)\n",
    "visualize_all_quasiprobs(tList, tA1213, tA2223, tA1223)\n",
    "\n",
    "t2 = time()\n",
    "print(\"Runtime = \" + repr(t2-t1) + \" seconds\")"
   ]
  },
  {
   "cell_type": "markdown",
   "metadata": {},
   "source": [
    "## 5) Power-Law Ising, Coarse Grained, Weak Coupling"
   ]
  },
  {
   "cell_type": "code",
   "execution_count": null,
   "metadata": {
    "scrolled": false
   },
   "outputs": [],
   "source": [
    "t1 = time() # Expected run-time: 2 minutes\n",
    "\n",
    "nCores = 2\n",
    "n = 8\n",
    "hz = [.375, -.375, .375, -.375, .375, -.375, .375, -.375]\n",
    "H = power_law_ising_hamiltonian(n, hz, 1.05, 1, 5, 6)\n",
    "beta = 1\n",
    "Lambda, Q = linalg.eigh(H.todense())\n",
    "rho = thermal_density_matrix(Lambda, Q, beta)\n",
    "vAxis = [0,0]\n",
    "V1 = construct_local_projector(n, 0, 0, vAxis)\n",
    "V2 = construct_local_projector(n, 0, 1, vAxis)\n",
    "xValues = np.arange(-30,30,.1)\n",
    "pg1 = weak_measurement_couplings(10, .1, .02, xValues)\n",
    "pg2 = weak_measurement_couplings(10, .1, .02, xValues)\n",
    "wAxis = [0,0]\n",
    "W1 = construct_local_projector(n, n-1, 0, wAxis)\n",
    "W2 = construct_local_projector(n, n-1, 1, wAxis)\n",
    "Wlist = [W1, W2]\n",
    "tList = np.linspace(0,10,101)\n",
    "eps=.01\n",
    "\n",
    "visualize_weak_couplings(pg1, xValues)\n",
    "\n",
    "LHSneu, LHSmm, LHSneuTerms, LHSmmTerms, rhoF, rhoR, f, fOrd, fTerm, qProbs = simulation(V1, V2, pg1, pg2, Wlist, H, rho, tList, nWorks=nCores)\n",
    "\n",
    "visualize_inequality(tList, LHSneu, LHSmm, f, fOrd, fTerm, qProbs)\n",
    "\n",
    "visualize_smoothed_inequality(tList, rhoF, rhoR, f, eps)\n",
    "\n",
    "visualize_detector_state(xValues, rhoF, 'Forward Detector')\n",
    "visualize_detector_state(xValues, rhoR, 'Reverse Detector')\n",
    "\n",
    "tA1213, tA2223, tA1223 = create_all_quasiprobs(V1, V2, pg1, pg2, Wlist, H, tList, hbar=1)\n",
    "visualize_all_quasiprobs(tList, tA1213, tA2223, tA1223)\n",
    "\n",
    "t2 = time()\n",
    "print(\"Runtime = \" + repr(t2-t1) + \" seconds\")"
   ]
  },
  {
   "cell_type": "markdown",
   "metadata": {},
   "source": [
    "## 6) Power-Law Ising, Coarse Grained, Strong Coupling"
   ]
  },
  {
   "cell_type": "code",
   "execution_count": null,
   "metadata": {
    "scrolled": true
   },
   "outputs": [],
   "source": [
    "t1 = time() # Expected run-time: 2 minutes\n",
    "\n",
    "nCores = 2\n",
    "n = 8\n",
    "hz = [.375, -.375, .375, -.375, .375, -.375, .375, -.375]\n",
    "H = power_law_ising_hamiltonian(n, hz, 1.05, 1, 5, 6)\n",
    "beta = 1\n",
    "Lambda, Q = linalg.eigh(H.todense())\n",
    "rho = thermal_density_matrix(Lambda, Q, beta)\n",
    "vAxis = [0,0]\n",
    "V1 = construct_local_projector(n, 0, 0, vAxis)\n",
    "V2 = construct_local_projector(n, 0, 1, vAxis)\n",
    "xValues = np.arange(-30,30,.1)\n",
    "pg1 = weak_measurement_couplings(10, .1, .16, xValues)\n",
    "pg2 = weak_measurement_couplings(10, .1, .16, xValues)\n",
    "wAxis = [0,0]\n",
    "W1 = construct_local_projector(n, n-1, 0, wAxis)\n",
    "W2 = construct_local_projector(n, n-1, 1, wAxis)\n",
    "Wlist = [W1, W2]\n",
    "tList = np.linspace(0,10,101)\n",
    "eps=.01\n",
    "\n",
    "visualize_weak_couplings(pg1, xValues)\n",
    "\n",
    "LHSneu, LHSmm, LHSneuTerms, LHSmmTerms, rhoF, rhoR, f, aOrd, aTerm, qProbs = simulation_strong(V1, V2, pg1, pg2, Wlist, H, rho, tList, nWorks=nCores)\n",
    "\n",
    "visualize_inequality_strong(tList, LHSneu, LHSmm, f, aOrd, aTerm, qProbs)\n",
    "\n",
    "visualize_smoothed_inequality(tList, rhoF, rhoR, f, eps)\n",
    "\n",
    "visualize_detector_state(xValues, rhoF, 'Forward Detector')\n",
    "visualize_detector_state(xValues, rhoR, 'Reverse Detector')\n",
    "\n",
    "t2 = time()\n",
    "print(\"Runtime = \" + repr(t2-t1) + \" seconds\")"
   ]
  },
  {
   "cell_type": "markdown",
   "metadata": {},
   "source": [
    "## 7) Power-Law Ising, Coarse Grained, Strong Coupling, Engineered Initial State"
   ]
  },
  {
   "cell_type": "code",
   "execution_count": null,
   "metadata": {
    "scrolled": true
   },
   "outputs": [],
   "source": [
    "t1 = time() # Expected run-time: 3 minutes\n",
    "\n",
    "nCores = 2\n",
    "n = 8\n",
    "hz = [.375, -.375, .375, -.375, .375, -.375, .375, -.375]\n",
    "H = power_law_ising_hamiltonian(n, hz, 1.05, 1, 5, 6)\n",
    "vAxis = [0,0]\n",
    "V1 = construct_local_projector(n, 0, 0, vAxis)\n",
    "V2 = construct_local_projector(n, 0, 1, vAxis)\n",
    "xValues = np.arange(-30,30,.1)\n",
    "pg1 = weak_measurement_couplings(10, .1, .16, xValues)\n",
    "pg2 = weak_measurement_couplings(10, .1, .16, xValues)\n",
    "wAxis = [0,0]\n",
    "W1 = construct_local_projector(n, n-1, 0, wAxis)\n",
    "W2 = construct_local_projector(n, n-1, 1, wAxis)\n",
    "Wlist = [W1, W2]\n",
    "tList = np.linspace(0,10,101)\n",
    "eps=.01\n",
    "\n",
    "t_unscramble = 5\n",
    "Lambda, Q = linalg.eigh(H.todense())\n",
    "rho_unscrambled = Wlist[0]/np.trace(Wlist[0].todense())\n",
    "U_scramble = get_U(Lambda, Q, t_unscramble)\n",
    "rho = U_scramble.getH() @ rho_unscrambled @ U_scramble\n",
    "\n",
    "visualize_weak_couplings(pg1, xValues)\n",
    "\n",
    "LHSneu, LHSmm, LHSneuTerms, LHSmmTerms, rhoF, rhoR, f, aOrd, aTerm, qProbs = simulation_strong(V1, V2, pg1, pg2, Wlist, H, rho, tList, nWorks=nCores)\n",
    "\n",
    "visualize_inequality_strong(tList, LHSneu, LHSmm, f, aOrd, aTerm, qProbs)\n",
    "\n",
    "visualize_smoothed_inequality(tList, rhoF, rhoR, f, eps)\n",
    "\n",
    "visualize_detector_state(xValues, rhoF, 'Forward Detector')\n",
    "visualize_detector_state(xValues, rhoR, 'Reverse Detector')\n",
    "\n",
    "t2 = time()\n",
    "print(\"Runtime = \" + repr(t2-t1) + \" seconds\")"
   ]
  },
  {
   "cell_type": "markdown",
   "metadata": {},
   "source": [
    "## 8) Power-Law Ising, Partially Fine Grained, Weak Coupling"
   ]
  },
  {
   "cell_type": "code",
   "execution_count": null,
   "metadata": {
    "scrolled": true
   },
   "outputs": [],
   "source": [
    "t1 = time() # Expected run-time: 20 minutes\n",
    "\n",
    "nCores = 2\n",
    "n = 8\n",
    "hz = [.375, -.375, .375, -.375, .375, -.375, .375, -.375]\n",
    "H = power_law_ising_hamiltonian(n, hz, 1.05, 1, 5, 6)\n",
    "beta = 1\n",
    "Lambda, Q = linalg.eigh(H.todense())\n",
    "rho = thermal_density_matrix(Lambda, Q, beta)\n",
    "vAxis = [0,0]\n",
    "V1 = construct_local_projector(n, 0, 0, vAxis)\n",
    "V2 = construct_local_projector(n, 0, 1, vAxis)\n",
    "xValues = np.arange(-30,30,.1)\n",
    "pg1 = weak_measurement_couplings(10, .1, .02, xValues)\n",
    "pg2 = weak_measurement_couplings(10, .1, .02, xValues)\n",
    "wAxisList = [None, None, None, None, [0,0], [0,0], [0,0], [0,0]]\n",
    "Wlist = construct_complete_projector_list(n, wAxisList)\n",
    "tList = np.linspace(0,10,101)\n",
    "eps = .01\n",
    "\n",
    "visualize_weak_couplings(pg1, xValues)\n",
    "\n",
    "LHSneu, LHSmm, LHSneuTerms, LHSmmTerms, rhoF, rhoR, f, fOrd, fTerm, qProbs = simulation(V1, V2, pg1, pg2, Wlist, H, rho, tList, nWorks=nCores)\n",
    "\n",
    "visualize_inequality(tList, LHSneu, LHSmm, f, fOrd, fTerm, qProbs)\n",
    "\n",
    "visualize_smoothed_inequality(tList, rhoF, rhoR, f, eps)\n",
    "\n",
    "visualize_detector_state(xValues, rhoF, 'Forward Detector')\n",
    "visualize_detector_state(xValues, rhoR, 'Reverse Detector')\n",
    "\n",
    "tA1213, tA2223, tA1223 = create_all_quasiprobs(V1, V2, pg1, pg2, Wlist, H, tList, hbar=1)\n",
    "visualize_all_quasiprobs(tList, tA1213, tA2223, tA1223)\n",
    "\n",
    "t2 = time()\n",
    "print(\"Runtime = \" + repr(t2-t1) + \" seconds\")"
   ]
  },
  {
   "cell_type": "markdown",
   "metadata": {},
   "source": [
    "## 9) Power-Law Ising, Fine Grained, Weak Coupling"
   ]
  },
  {
   "cell_type": "code",
   "execution_count": null,
   "metadata": {
    "scrolled": true
   },
   "outputs": [],
   "source": [
    "t1 = time() # Expected run-time: 3 hours\n",
    "\n",
    "nCores = 2\n",
    "n = 8\n",
    "hz = [.375, -.375, .375, -.375, .375, -.375, .375, -.375]\n",
    "H = power_law_ising_hamiltonian(n, hz, 1.05, 1, 5, 6)\n",
    "beta = 1\n",
    "Lambda, Q = linalg.eigh(H.todense())\n",
    "rho = thermal_density_matrix(Lambda, Q, beta)\n",
    "vAxis = [0,0]\n",
    "V1 = construct_local_projector(n, 0, 0, vAxis)\n",
    "V2 = construct_local_projector(n, 0, 1, vAxis)\n",
    "xValues = np.arange(-30,30,.1)\n",
    "pg1 = weak_measurement_couplings(10, .1, .02, xValues)\n",
    "pg2 = weak_measurement_couplings(10, .1, .02, xValues)\n",
    "wAxisList = [[0,0], ]*n\n",
    "Wlist = construct_complete_projector_list(n, wAxisList)\n",
    "tList = np.linspace(0,10,101)\n",
    "eps = .01\n",
    "\n",
    "visualize_weak_couplings(pg1, xValues)\n",
    "\n",
    "LHSneu, LHSmm, LHSneuTerms, LHSmmTerms, rhoF, rhoR, f, fOrd, fTerm, qProbs = simulation(V1, V2, pg1, pg2, Wlist, H, rho, tList, nWorks=nCores)\n",
    "\n",
    "visualize_inequality(tList, LHSneu, LHSmm, f, fOrd, fTerm, qProbs)\n",
    "\n",
    "visualize_smoothed_inequality(tList, rhoF, rhoR, f, eps)\n",
    "\n",
    "tA1213, tA2223, tA1223 = create_all_quasiprobs(V1, V2, pg1, pg2, Wlist, H, tList, hbar=1)\n",
    "visualize_all_quasiprobs(tList, tA1213, tA2223, tA1223)\n",
    "\n",
    "t2 = time()\n",
    "print(\"Runtime = \" + repr(t2-t1) + \" seconds\")"
   ]
  },
  {
   "cell_type": "markdown",
   "metadata": {},
   "source": [
    "## 10) Power-Law Ising, Fine Grained, Weak Coupling, Engineered Initial State"
   ]
  },
  {
   "cell_type": "code",
   "execution_count": null,
   "metadata": {
    "scrolled": true
   },
   "outputs": [],
   "source": [
    "t1 = time() # Expected run-time: 3 hours\n",
    "\n",
    "nCores = 2\n",
    "n = 8\n",
    "hz = [.375, -.375, .375, -.375, .375, -.375, .375, -.375]\n",
    "H = power_law_ising_hamiltonian(n, hz, 1.05, 1, 5, 6)\n",
    "\n",
    "vAxis = [0,0]\n",
    "V1 = construct_local_projector(n, 0, 0, vAxis)\n",
    "V2 = construct_local_projector(n, 0, 1, vAxis)\n",
    "xValues = np.arange(-30,30,.1)\n",
    "pg1 = weak_measurement_couplings(10, .1, .02, xValues)\n",
    "pg2 = weak_measurement_couplings(10, .1, .02, xValues)\n",
    "wAxisList = [[0,0], ]*n\n",
    "Wlist = construct_complete_projector_list(n, wAxisList)\n",
    "tList = np.linspace(0,10,101)\n",
    "eps = .01\n",
    "\n",
    "t_unscramble = 5\n",
    "Lambda, Q = linalg.eigh(H.todense())\n",
    "rho_unscrambled = Wlist[0]\n",
    "U_scramble = get_U(Lambda, Q, t_unscramble)\n",
    "rho = U_scramble.getH() @ rho_unscrambled @ U_scramble\n",
    "\n",
    "visualize_weak_couplings(pg1, xValues)\n",
    "\n",
    "LHSneu, LHSmm, LHSneuTerms, LHSmmTerms, rhoF, rhoR, f, fOrd, fTerm, qProbs = simulation(V1, V2, pg1, pg2, Wlist, H, rho, tList, nWorks=nCores)\n",
    "\n",
    "visualize_inequality(tList, LHSneu, LHSmm, f, fOrd, fTerm, qProbs)\n",
    "\n",
    "visualize_smoothed_inequality(tList, rhoF, rhoR, f, eps)\n",
    "\n",
    "tA1213, tA2223, tA1223 = create_all_quasiprobs(V1, V2, pg1, pg2, Wlist, H, tList, hbar=1)\n",
    "visualize_all_quasiprobs(tList, tA1213, tA2223, tA1223)\n",
    "\n",
    "t2 = time()\n",
    "print(\"Runtime = \" + repr(t2-t1) + \" seconds\")"
   ]
  }
 ],
 "metadata": {
  "kernelspec": {
   "display_name": "Python 3",
   "language": "python",
   "name": "python3"
  },
  "language_info": {
   "codemirror_mode": {
    "name": "ipython",
    "version": 3
   },
   "file_extension": ".py",
   "mimetype": "text/x-python",
   "name": "python",
   "nbconvert_exporter": "python",
   "pygments_lexer": "ipython3",
   "version": "3.5.2"
  }
 },
 "nbformat": 4,
 "nbformat_minor": 2
}
